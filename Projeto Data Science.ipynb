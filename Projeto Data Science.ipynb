{
 "cells": [
  {
   "cell_type": "code",
   "execution_count": 3,
   "source": [
    "'''Importando e tratando Dados'''\n",
    "#importando modulos\n",
    "import pandas as pd\n",
    "import matplotlib.pyplot as plt\n",
    "import numpy as ny\n",
    "\n",
    "'''Lendo arquivos'''\n",
    "clientes_df = pd.read_csv(r'/home/seipel/Documents/Python/Projetos Destacados/Mini Projeto Data Science/CadastroClientes.csv', sep = ';')\n",
    "funcionarios_df = pd.read_csv(r'/home/seipel/Documents/Python/Projetos Destacados/Mini Projeto Data Science/CadastroFuncionarios.csv', sep = ';', decimal = ',')\n",
    "servicos_df = pd.read_excel(r'/home/seipel/Documents/Python/Projetos Destacados/Mini Projeto Data Science/BaseServiçosPrestados.xlsx')\n",
    "'''Retirar colunas Estado Civil e Cargo da tabela de funcionarios'''\n",
    "funcionarios_df = funcionarios_df.drop(columns=['Estado Civil', 'Cargo'])\n"
   ],
   "outputs": [],
   "metadata": {}
  },
  {
   "cell_type": "code",
   "execution_count": 5,
   "source": [
    "'''Calcular o Valor Total de Folha Salarial'''\n",
    "funcionarios_df['Salario Total'] = funcionarios_df['Salario Base'] + funcionarios_df['Impostos'] + funcionarios_df['Beneficios'] + funcionarios_df['VT'] + funcionarios_df['VR']\n",
    "print('Total de Folha Salarial e de R${:,}'.format(sum(funcionarios_df['Salario Total'])))\n"
   ],
   "outputs": [
    {
     "output_type": "stream",
     "name": "stdout",
     "text": [
      "Total de Folha Salarial e de R$2,717,493.22\n"
     ]
    }
   ],
   "metadata": {}
  },
  {
   "cell_type": "markdown",
   "source": [],
   "metadata": {}
  },
  {
   "cell_type": "code",
   "execution_count": 4,
   "source": [
    "'''Faturamento da Empresa'''\n",
    "faturamento_df = servicos_df[['ID Cliente', 'Tempo Total de Contrato (Meses)']].merge(clientes_df[['ID Cliente', 'Valor Contrato Mensal']], on= 'ID Cliente')\n",
    "faturamento_df['Faturamento Total'] = faturamento_df['Tempo Total de Contrato (Meses)'] * faturamento_df['Valor Contrato Mensal']\n",
    "print('O Faturamento Total da Empresa foi de R${:,}'.format(sum(faturamento_df['Faturamento Total'])))"
   ],
   "outputs": [
    {
     "output_type": "stream",
     "name": "stdout",
     "text": [
      "O Faturamento Total da Empresa foi de R$5,519,160\n"
     ]
    }
   ],
   "metadata": {}
  },
  {
   "cell_type": "code",
   "execution_count": 16,
   "source": [
    "'''Qual a Porcentagem de funcionarios que ja fechou algum contrato?'''\n",
    "qtde_funcionario_fecharamcontrato = len(servicos_df['ID Funcionário'].unique())\n",
    "qtde_funcionario_total = len(funcionarios_df['ID Funcionário'])\n",
    "porcentagem = qtde_funcionario_fecharamcontrato / qtde_funcionario_total\n",
    "print('A porcentagem de funcionarios que fecharam contrato foi {:.2%}'.format(porcentagem))\n"
   ],
   "outputs": [
    {
     "output_type": "stream",
     "name": "stdout",
     "text": [
      "A porcentagem de funcionarios que fecharam contrato foi 86.84%\n"
     ]
    }
   ],
   "metadata": {}
  },
  {
   "cell_type": "code",
   "execution_count": 29,
   "source": [
    "'''Quantidade  de contratos por Area'''\n",
    "contratos_area_df = servicos_df[['ID Funcionário']].merge(funcionarios_df[['ID Funcionário', 'Area']], on = 'ID Funcionário')\n",
    "contratos_area_qtde = contratos_area_df['Area'].value_counts()\n",
    "contratos_area_qtde.plot(kind='bar')\n"
   ],
   "outputs": [
    {
     "output_type": "execute_result",
     "data": {
      "text/plain": [
       "<AxesSubplot:>"
      ]
     },
     "metadata": {},
     "execution_count": 29
    },
    {
     "output_type": "display_data",
     "data": {
      "text/plain": [
       "<Figure size 432x288 with 1 Axes>"
      ],
      "image/png": "[encoded data removed]"
     },
     "metadata": {
      "needs_background": "light"
     }
    }
   ],
   "metadata": {}
  },
  {
   "cell_type": "code",
   "execution_count": 26,
   "source": [
    "'''Funcionarios por Area'''\n",
    "fucionarios_area = funcionarios_df['Area'].value_counts()\n",
    "fucionarios_area.plot(kind= 'bar')"
   ],
   "outputs": [
    {
     "output_type": "execute_result",
     "data": {
      "text/plain": [
       "<AxesSubplot:>"
      ]
     },
     "metadata": {},
     "execution_count": 26
    },
    {
     "output_type": "display_data",
     "data": {
      "text/plain": [
       "<Figure size 432x288 with 1 Axes>"
      ],
      "image/png": "[encoded data removed]"
     },
     "metadata": {
      "needs_background": "light"
     }
    }
   ],
   "metadata": {}
  },
  {
   "cell_type": "code",
   "execution_count": 35,
   "source": [
    "'''Valor de Tickete Medio Mensal'''\n",
    "ticket_mediMesal = clientes_df['Valor Contrato Mensal'].mean()\n",
    "print('O ticket Medio Mensal da Empresa e: R$ {:,.2f}'.format(ticket_mediMesal))"
   ],
   "outputs": [
    {
     "output_type": "stream",
     "name": "stdout",
     "text": [
      "O ticket Medio Mensal da Empresa e: R$ 2,502.56\n"
     ]
    }
   ],
   "metadata": {}
  }
 ],
 "metadata": {
  "orig_nbformat": 4,
  "language_info": {
   "name": "python",
   "version": "3.9.2",
   "mimetype": "text/x-python",
   "codemirror_mode": {
    "name": "ipython",
    "version": 3
   },
   "pygments_lexer": "ipython3",
   "nbconvert_exporter": "python",
   "file_extension": ".py"
  },
  "kernelspec": {
   "name": "python3",
   "display_name": "Python 3.9.2 64-bit"
  },
  "interpreter": {
   "hash": "916dbcbb3f70747c44a77c7bcd40155683ae19c65e1c03b4aa3499c5328201f1"
  }
 },
 "nbformat": 4,
 "nbformat_minor": 2
}